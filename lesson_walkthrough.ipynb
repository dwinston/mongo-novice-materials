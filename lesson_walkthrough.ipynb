{
 "cells": [
  {
   "cell_type": "markdown",
   "metadata": {},
   "source": [
    "# Lesson Walkthrough"
   ]
  },
  {
   "cell_type": "markdown",
   "metadata": {},
   "source": [
    "This notebook walks through the material for each of the lesson topics, in order, to ensure they run. This notebook is *not* the \"source\" for the lesson material, e.g. through `pandoc` conversion. It is rather an environment to quickly sketch out and test ideas for lesson development."
   ]
  },
  {
   "cell_type": "markdown",
   "metadata": {},
   "source": [
    "## Introduction (to the lesson overall)"
   ]
  },
  {
   "cell_type": "markdown",
   "metadata": {},
   "source": [
    "This lesson introduces MongoDB, a document-oriented database that departs from the relational nature of SQL. Because SQL is so well-established and prevalent as a database technology, the terms \"relational database\" and \"SQL\" are often synonymous. Furthermore, the term \"NoSQL\" has come to encompass a whole class of database technologies that are non-relational in nature. There are other \"NoSQL\" technologies such as key-value stores and column stores that differ from MongoDB's document/collection approach, but we will only cover MongoDB today.\n",
    "\n",
    "MongoDB trades off the strictness of SQL for a degree of simplicity and flexibility often desirable for scientists who MongoDB trades off the strictness of SQL for a degree of simplicity and\n",
    "flexibility often desirable for scientists who are often not certain about the\n",
    "best schema design for new/changing data sets. Whereas SQL lends itself well to\n",
    "enforcing a schema and thus ensuring data validation at the database level, a\n",
    "system like MongoDB does not require setting/migrating schemas to get started\n",
    "with data management. However, this means that application-level data\n",
    "validation (e.g. before adding to the database) is particularly\n",
    "important. MongoDB can pick up on implicit schema in your data through the\n",
    "creation of indexes, which will speed up queries significantly for large data\n",
    "sets.\n",
    "\n",
    "This lesson was originally developed \n",
    "at the [Lawrence Berkeley National Laboratory](http://lbl.gov), where many scientists use MongoDB servers hosted by [NERSC](http://nersc.gov) to [manage workflows](https://pythonhosted.org/FireWorks/) and [process data](https://pythonhosted.org/pymatgen-db/) on supercomputing clusters. The example data for this lesson is from the [Materials Project](https://materialsproject.org), which hosts computed information for tens of thousands of known and predicted inorganic crystalline compounds."
   ]
  },
  {
   "cell_type": "markdown",
   "metadata": {},
   "source": [
    "## Prerequisites"
   ]
  }
 ],
 "metadata": {
  "kernelspec": {
   "display_name": "Python 2",
   "language": "python",
   "name": "python2"
  },
  "language_info": {
   "codemirror_mode": {
    "name": "ipython",
    "version": 2
   },
   "file_extension": ".py",
   "mimetype": "text/x-python",
   "name": "python",
   "nbconvert_exporter": "python",
   "pygments_lexer": "ipython2",
   "version": "2.7.10"
  }
 },
 "nbformat": 4,
 "nbformat_minor": 0
}
